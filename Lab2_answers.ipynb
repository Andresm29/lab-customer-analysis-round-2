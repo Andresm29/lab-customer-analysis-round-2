{
 "cells": [
  {
   "cell_type": "markdown",
   "id": "2f11fb4a",
   "metadata": {},
   "source": [
    "# Lab 2 Answers"
   ]
  },
  {
   "cell_type": "code",
   "execution_count": 10,
   "id": "1f7f9072",
   "metadata": {},
   "outputs": [],
   "source": [
    "#Libraries\n",
    "import pandas as pd"
   ]
  },
  {
   "cell_type": "code",
   "execution_count": 8,
   "id": "2ee518ed",
   "metadata": {},
   "outputs": [],
   "source": [
    "data = pd.read_csv('marketing_customer_analysis.csv')"
   ]
  },
  {
   "cell_type": "markdown",
   "id": "8f7b5d14",
   "metadata": {},
   "source": [
    "1. Show the dataframe shape."
   ]
  },
  {
   "cell_type": "code",
   "execution_count": 18,
   "id": "2d565509",
   "metadata": {},
   "outputs": [
    {
     "name": "stdout",
     "output_type": "stream",
     "text": [
      "(10910, 26)\n"
     ]
    }
   ],
   "source": [
    "print(data.shape)"
   ]
  },
  {
   "cell_type": "markdown",
   "id": "25eeee7d",
   "metadata": {},
   "source": [
    "2. Standardize header names."
   ]
  },
  {
   "cell_type": "code",
   "execution_count": 22,
   "id": "ce35d181",
   "metadata": {},
   "outputs": [
    {
     "data": {
      "text/plain": [
       "Index(['unnamed:_0', 'customer', 'state', 'customer_lifetime_value',\n",
       "       'response', 'coverage', 'education', 'effective_to_date',\n",
       "       'employmentstatus', 'gender', 'income', 'location_code',\n",
       "       'marital_status', 'monthly_premium_auto', 'months_since_last_claim',\n",
       "       'months_since_policy_inception', 'number_of_open_complaints',\n",
       "       'number_of_policies', 'policy_type', 'policy', 'renew_offer_type',\n",
       "       'sales_channel', 'total_claim_amount', 'vehicle_class', 'vehicle_size',\n",
       "       'vehicle_type'],\n",
       "      dtype='object')"
      ]
     },
     "execution_count": 22,
     "metadata": {},
     "output_type": "execute_result"
    }
   ],
   "source": [
    "data.columns = data.columns.str.lower().str.replace(' ', '_')\n",
    "data.columns"
   ]
  },
  {
   "cell_type": "markdown",
   "id": "77406bef",
   "metadata": {},
   "source": [
    "3. Which columns are numerical?"
   ]
  },
  {
   "cell_type": "code",
   "execution_count": 32,
   "id": "c86244c7",
   "metadata": {},
   "outputs": [
    {
     "name": "stdout",
     "output_type": "stream",
     "text": [
      "Index(['unnamed:_0', 'customer_lifetime_value', 'income',\n",
      "       'monthly_premium_auto', 'months_since_last_claim',\n",
      "       'months_since_policy_inception', 'number_of_open_complaints',\n",
      "       'number_of_policies', 'total_claim_amount'],\n",
      "      dtype='object')\n"
     ]
    }
   ],
   "source": [
    "numerical_columns = data.select_dtypes(include=['int64', 'float64']).columns\n",
    "print(numerical_columns)"
   ]
  },
  {
   "cell_type": "markdown",
   "id": "e06c49c8",
   "metadata": {},
   "source": [
    "4. Which columns are categorical?"
   ]
  },
  {
   "cell_type": "code",
   "execution_count": 34,
   "id": "49520d91",
   "metadata": {},
   "outputs": [
    {
     "name": "stdout",
     "output_type": "stream",
     "text": [
      "Index(['customer', 'state', 'response', 'coverage', 'education',\n",
      "       'effective_to_date', 'employmentstatus', 'gender', 'location_code',\n",
      "       'marital_status', 'policy_type', 'policy', 'renew_offer_type',\n",
      "       'sales_channel', 'vehicle_class', 'vehicle_size', 'vehicle_type'],\n",
      "      dtype='object')\n"
     ]
    }
   ],
   "source": [
    "categorical_columns = data.select_dtypes(include=['object']).columns\n",
    "print(categorical_columns)"
   ]
  },
  {
   "cell_type": "markdown",
   "id": "73d34438",
   "metadata": {},
   "source": [
    "5. Check and deal with NaN values."
   ]
  },
  {
   "cell_type": "code",
   "execution_count": 42,
   "id": "9ca51963",
   "metadata": {
    "scrolled": true
   },
   "outputs": [
    {
     "name": "stdout",
     "output_type": "stream",
     "text": [
      "unnamed:_0                          0\n",
      "customer                            0\n",
      "state                             631\n",
      "customer_lifetime_value             0\n",
      "response                          631\n",
      "coverage                            0\n",
      "education                           0\n",
      "effective_to_date                   0\n",
      "employmentstatus                    0\n",
      "gender                              0\n",
      "income                              0\n",
      "location_code                       0\n",
      "marital_status                      0\n",
      "monthly_premium_auto                0\n",
      "months_since_last_claim           633\n",
      "months_since_policy_inception       0\n",
      "number_of_open_complaints         633\n",
      "number_of_policies                  0\n",
      "policy_type                         0\n",
      "policy                              0\n",
      "renew_offer_type                    0\n",
      "sales_channel                       0\n",
      "total_claim_amount                  0\n",
      "vehicle_class                     622\n",
      "vehicle_size                      622\n",
      "vehicle_type                     5482\n",
      "month                               0\n",
      "dtype: int64\n"
     ]
    }
   ],
   "source": [
    "print(df.isna().sum())"
   ]
  },
  {
   "cell_type": "markdown",
   "id": "3f9c6e97",
   "metadata": {},
   "source": [
    "6. Datetime format - Extract the months from the dataset and store in a separate column. Then filter the data to show only the information for the first quarter, ie. January, February and March. Hint: If data from March does not exist, consider only January and February."
   ]
  },
  {
   "cell_type": "code",
   "execution_count": 55,
   "id": "b5e7d779",
   "metadata": {
    "scrolled": true
   },
   "outputs": [
    {
     "name": "stdout",
     "output_type": "stream",
     "text": [
      "       unnamed:_0 customer       state  customer_lifetime_value response  \\\n",
      "0               0  DK49336     Arizona              4809.216960       No   \n",
      "1               1  KX64629  California              2228.525238       No   \n",
      "2               2  LZ68649  Washington             14947.917300       No   \n",
      "3               3  XL78013      Oregon             22332.439460      Yes   \n",
      "4               4  QA50777      Oregon              9025.067525       No   \n",
      "...           ...      ...         ...                      ...      ...   \n",
      "10905       10905  FE99816      Nevada             15563.369440       No   \n",
      "10906       10906  KX53892      Oregon              5259.444853       No   \n",
      "10907       10907  TL39050     Arizona             23893.304100       No   \n",
      "10908       10908  WA60547  California             11971.977650       No   \n",
      "10909       10909  IV32877         NaN              6857.519928      NaN   \n",
      "\n",
      "       coverage education effective_to_date employmentstatus gender  ...  \\\n",
      "0         Basic   College           2/18/11         Employed      M  ...   \n",
      "1         Basic   College           1/18/11       Unemployed      F  ...   \n",
      "2         Basic  Bachelor           2/10/11         Employed      M  ...   \n",
      "3      Extended   College           1/11/11         Employed      M  ...   \n",
      "4       Premium  Bachelor           1/17/11    Medical Leave      F  ...   \n",
      "...         ...       ...               ...              ...    ...  ...   \n",
      "10905   Premium  Bachelor           1/19/11       Unemployed      F  ...   \n",
      "10906     Basic   College            1/6/11         Employed      F  ...   \n",
      "10907  Extended  Bachelor            2/6/11         Employed      F  ...   \n",
      "10908   Premium   College           2/13/11         Employed      F  ...   \n",
      "10909     Basic  Bachelor            1/8/11       Unemployed      M  ...   \n",
      "\n",
      "             policy renew_offer_type sales_channel  total_claim_amount  \\\n",
      "0      Corporate L3           Offer3         Agent          292.800000   \n",
      "1       Personal L3           Offer4   Call Center          744.924331   \n",
      "2       Personal L3           Offer3   Call Center          480.000000   \n",
      "3      Corporate L3           Offer2        Branch          484.013411   \n",
      "4       Personal L2           Offer1        Branch          707.925645   \n",
      "...             ...              ...           ...                 ...   \n",
      "10905   Personal L1           Offer3           Web         1214.400000   \n",
      "10906   Personal L3           Offer2        Branch          273.018929   \n",
      "10907  Corporate L3           Offer1           Web          381.306996   \n",
      "10908   Personal L1           Offer1        Branch          618.288849   \n",
      "10909   Personal L1           Offer4           Web         1021.719397   \n",
      "\n",
      "       vehicle_class  vehicle_size  vehicle_type  month  \\\n",
      "0      Four-Door Car       Medsize           NaN    1.0   \n",
      "1      Four-Door Car       Medsize           NaN    1.0   \n",
      "2                SUV       Medsize             A    1.0   \n",
      "3      Four-Door Car       Medsize             A    1.0   \n",
      "4      Four-Door Car       Medsize           NaN    1.0   \n",
      "...              ...           ...           ...    ...   \n",
      "10905     Luxury Car       Medsize             A    1.0   \n",
      "10906  Four-Door Car       Medsize             A    1.0   \n",
      "10907     Luxury SUV       Medsize           NaN    1.0   \n",
      "10908            SUV       Medsize             A    1.0   \n",
      "10909            SUV       Medsize           NaN    1.0   \n",
      "\n",
      "      months_since_last_claim_month months_since_policy_inception_month  \n",
      "0                               1.0                                   1  \n",
      "1                               1.0                                   1  \n",
      "2                               1.0                                   1  \n",
      "3                               1.0                                   1  \n",
      "4                               NaN                                   1  \n",
      "...                             ...                                 ...  \n",
      "10905                           NaN                                   1  \n",
      "10906                           1.0                                   1  \n",
      "10907                           1.0                                   1  \n",
      "10908                           1.0                                   1  \n",
      "10909                           1.0                                   1  \n",
      "\n",
      "[10910 rows x 29 columns]\n"
     ]
    }
   ],
   "source": [
    "date_cols = ['months_since_last_claim', 'months_since_policy_inception']\n",
    "for col in date_cols:\n",
    "    df[f'{col}_month'] = pd.to_datetime(df[col]).dt.month\n",
    "\n",
    "df['month'] = df[[f'{col}_month' for col in date_cols]].max(axis=1)\n",
    "q1_df = df[(df['month'] >= 1) & (df['month'] <= 3)]\n",
    "\n",
    "print(q1_df)"
   ]
  }
 ],
 "metadata": {
  "kernelspec": {
   "display_name": "Python 3 (ipykernel)",
   "language": "python",
   "name": "python3"
  },
  "language_info": {
   "codemirror_mode": {
    "name": "ipython",
    "version": 3
   },
   "file_extension": ".py",
   "mimetype": "text/x-python",
   "name": "python",
   "nbconvert_exporter": "python",
   "pygments_lexer": "ipython3",
   "version": "3.9.13"
  }
 },
 "nbformat": 4,
 "nbformat_minor": 5
}
